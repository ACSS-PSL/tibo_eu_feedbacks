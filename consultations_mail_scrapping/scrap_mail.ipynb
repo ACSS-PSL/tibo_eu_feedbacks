{
 "cells": [
  {
   "cell_type": "code",
   "execution_count": 187,
   "metadata": {},
   "outputs": [],
   "source": [
    "import urllib3\n",
    "from urllib.parse import urlencode\n",
    "import pandas as pd"
   ]
  },
  {
   "cell_type": "code",
   "execution_count": 188,
   "metadata": {},
   "outputs": [],
   "source": [
    "http = urllib3.PoolManager()"
   ]
  },
  {
   "cell_type": "markdown",
   "metadata": {},
   "source": [
    "We scrap all the ids of each public consultation"
   ]
  },
  {
   "cell_type": "code",
   "execution_count": 189,
   "metadata": {},
   "outputs": [
    {
     "name": "stdout",
     "output_type": "stream",
     "text": [
      "number of elements : 619\n",
      "number of pages : 7\n",
      "Scraping page 6\r"
     ]
    }
   ],
   "source": [
    "\n",
    "initiative_summary_page_list = []\n",
    "\n",
    "url = 'https://ec.europa.eu/info/law/better-regulation/brpapi/searchInitiatives'\n",
    "\n",
    "\n",
    "\n",
    "def scrap_initiative_id(page_id):\n",
    "    print(f\"Scraping page {page_id}\", end=\"\\r\")\n",
    "    params = {\n",
    "        \"frontEndStage\": \"OPC_LAUNCHED\",\n",
    "        \"size\": 100,\n",
    "        \"page\": page_id\n",
    "        }\n",
    "    encoded_params = urlencode(params)\n",
    "    full_url = f'{url}?{encoded_params}'\n",
    "\n",
    "    response = http.request(\"GET\", full_url)\n",
    "    json = response.json()\n",
    "    return json\n",
    "\n",
    "first_page_json = scrap_initiative_id(0)\n",
    "initiative_summary_page_list.append(first_page_json)\n",
    "\n",
    "elements_count = first_page_json['page']['totalElements']\n",
    "total_pages = first_page_json['page']['totalPages']\n",
    "print(f\"number of elements : {elements_count}\")\n",
    "print(f\"number of pages : {total_pages}\")\n",
    "\n",
    "\n",
    "for i_page in range(1, total_pages):\n",
    "    initiative_summary_page_list.append(scrap_initiative_id(i_page))"
   ]
  },
  {
   "cell_type": "code",
   "execution_count": 190,
   "metadata": {},
   "outputs": [],
   "source": [
    "initiative_summary_list = []\n",
    "for page in initiative_summary_page_list:\n",
    "    for initiative_summary in page['_embedded']['initiativeResultDtoes']:\n",
    "        initiative_summary_list.append(initiative_summary)\n",
    "    "
   ]
  },
  {
   "cell_type": "code",
   "execution_count": 191,
   "metadata": {},
   "outputs": [
    {
     "data": {
      "text/plain": [
       "{'CLOSED', 'OPEN', 'UPCOMING'}"
      ]
     },
     "execution_count": 191,
     "metadata": {},
     "output_type": "execute_result"
    }
   ],
   "source": [
    "set([x['currentStatuses'][0]['receivingFeedbackStatus'] for x in initiative_summary_list])"
   ]
  },
  {
   "cell_type": "code",
   "execution_count": 193,
   "metadata": {},
   "outputs": [
    {
     "name": "stdout",
     "output_type": "stream",
     "text": [
      "scraping id 618 of 619\r"
     ]
    }
   ],
   "source": [
    "out_list = []\n",
    "\n",
    "i=0\n",
    "for initiative_summary in initiative_summary_list:\n",
    "    print(f'scraping id {i} of {len(initiative_summary_list)}', end='\\r')\n",
    "    i+=1\n",
    "\n",
    "    initiative_id = int(initiative_summary[\"id\"])\n",
    "    short_title = initiative_summary['shortTitle']\n",
    "    contact_mail = ''\n",
    "    receiving_feedback_status = initiative_summary['currentStatuses'][0]['receivingFeedbackStatus']\n",
    "    feedback_start_date = initiative_summary['currentStatuses'][0]['feedbackStartDate']\n",
    "    feedback_end_date = initiative_summary['currentStatuses'][0]['feedbackEndDate']\n",
    "    page_url = f'https://ec.europa.eu/info/law/better-regulation/have-your-say/initiatives/{initiative_id}'\n",
    "\n",
    "    if receiving_feedback_status in {'CLOSED', 'OPEN'}:\n",
    "        url = f'https://ec.europa.eu/info/law/better-regulation/brpapi/publicConsultation/{int(initiative_id)}'\n",
    "        response = http.request(\"GET\", url)\n",
    "        if (response.status != 200):\n",
    "            print(f'request {url} didn\\'t work')\n",
    "            break\n",
    "        json = response.json()\n",
    "        contact_mail = json['surveyContactMail']\n",
    "\n",
    "\n",
    "    out_list.append([\n",
    "        short_title,\n",
    "        initiative_id,\n",
    "        contact_mail, \n",
    "        receiving_feedback_status,\n",
    "        feedback_start_date,\n",
    "        feedback_end_date,\n",
    "        page_url\n",
    "    ])\n",
    "    "
   ]
  },
  {
   "cell_type": "code",
   "execution_count": 198,
   "metadata": {},
   "outputs": [],
   "source": [
    "df = pd.DataFrame(out_list, columns=['short_title',\n",
    "        'initiative_id',\n",
    "        'contact_mail', \n",
    "        'receiving_feedback_status',\n",
    "        'feedback_start_date',\n",
    "        'feedback_end_date',\n",
    "        'page_url'])"
   ]
  },
  {
   "cell_type": "code",
   "execution_count": 200,
   "metadata": {},
   "outputs": [],
   "source": [
    "df.to_csv('public_consultations_contacts.csv')"
   ]
  },
  {
   "cell_type": "code",
   "execution_count": null,
   "metadata": {},
   "outputs": [],
   "source": []
  }
 ],
 "metadata": {
  "kernelspec": {
   "display_name": "Python 3",
   "language": "python",
   "name": "python3"
  },
  "language_info": {
   "codemirror_mode": {
    "name": "ipython",
    "version": 3
   },
   "file_extension": ".py",
   "mimetype": "text/x-python",
   "name": "python",
   "nbconvert_exporter": "python",
   "pygments_lexer": "ipython3",
   "version": "3.8.18"
  }
 },
 "nbformat": 4,
 "nbformat_minor": 2
}
