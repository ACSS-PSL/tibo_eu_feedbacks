{
 "cells": [
  {
   "cell_type": "code",
   "execution_count": 17,
   "metadata": {},
   "outputs": [],
   "source": [
    "import fitz\n",
    "# https://pymupdf.readthedocs.io/en/latest/recipes-text.html#how-to-analyze-font-characteristics\n",
    "import os\n",
    "import re\n",
    "import json"
   ]
  },
  {
   "cell_type": "code",
   "execution_count": 18,
   "metadata": {},
   "outputs": [],
   "source": [
    "data_folder_path = \"data/\"\n",
    "\n",
    "file_paths = []\n",
    "for folder_path, _, files in os.walk(data_folder_path):\n",
    "    for file_name in files:\n",
    "        full_path = os.path.join(folder_path, file_name)\n",
    "        if(bool(re.match('\\d+_SR[^A-Z]', file_name))):\n",
    "            europa_number = re.search(r'(\\d+)_SR', file_name).group(1)\n",
    "            file_paths.append({'europa_number': europa_number,\n",
    "                                  'file_path': full_path})"
   ]
  },
  {
   "cell_type": "code",
   "execution_count": 19,
   "metadata": {},
   "outputs": [],
   "source": [
    "pdf_file_paths = [x for x in file_paths if x['file_path'].endswith('.pdf')]\n",
    "non_pdf_file_paths = [x for x in file_paths if not x['file_path'].endswith('.pdf')]"
   ]
  },
  {
   "cell_type": "code",
   "execution_count": 20,
   "metadata": {},
   "outputs": [
    {
     "name": "stdout",
     "output_type": "stream",
     "text": [
      "146\n",
      "145 : data/13462/13462_SR.pdf                                                                                     \r"
     ]
    }
   ],
   "source": [
    "out_dict = {}\n",
    "error_list = []\n",
    "\n",
    "i = 0\n",
    "print(len(pdf_file_paths))\n",
    "for file_info in pdf_file_paths:\n",
    "    file_path = file_info['file_path']\n",
    "    file_id = file_info['europa_number']\n",
    "    print(f'{i} : {file_path}                                         ', \n",
    "          end='\\r')\n",
    "    try:\n",
    "        doc = fitz.open(file_path)\n",
    "        text = chr(12).join([page.get_text() for page in doc])\n",
    "        out_dict[file_id] = text\n",
    "    except:\n",
    "        print(f'error : {file_path}                                         ', )\n",
    "        error_list.append(file_info)\n",
    "    i += 1"
   ]
  },
  {
   "cell_type": "code",
   "execution_count": 21,
   "metadata": {},
   "outputs": [
    {
     "data": {
      "text/plain": [
       "[]"
      ]
     },
     "execution_count": 21,
     "metadata": {},
     "output_type": "execute_result"
    }
   ],
   "source": [
    "error_list"
   ]
  },
  {
   "cell_type": "code",
   "execution_count": 22,
   "metadata": {},
   "outputs": [],
   "source": [
    "out_file_path = 'data_out/sr.json'\n",
    "with open(out_file_path, 'w') as json_file:\n",
    "    json.dump(out_dict, json_file)"
   ]
  },
  {
   "cell_type": "code",
   "execution_count": null,
   "metadata": {},
   "outputs": [],
   "source": []
  }
 ],
 "metadata": {
  "kernelspec": {
   "display_name": "Python 3",
   "language": "python",
   "name": "python3"
  },
  "language_info": {
   "codemirror_mode": {
    "name": "ipython",
    "version": 3
   },
   "file_extension": ".py",
   "mimetype": "text/x-python",
   "name": "python",
   "nbconvert_exporter": "python",
   "pygments_lexer": "ipython3",
   "version": "3.8.18"
  }
 },
 "nbformat": 4,
 "nbformat_minor": 2
}
