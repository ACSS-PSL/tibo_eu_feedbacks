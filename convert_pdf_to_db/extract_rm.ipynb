{
 "cells": [
  {
   "cell_type": "code",
   "execution_count": 7,
   "metadata": {},
   "outputs": [],
   "source": [
    "import os\n",
    "import camelot\n",
    "import pandas as pd\n",
    "import re\n",
    "import json"
   ]
  },
  {
   "cell_type": "code",
   "execution_count": 3,
   "metadata": {},
   "outputs": [],
   "source": [
    "data_folder_path = \"data/\"\n",
    "\n",
    "rm_file_paths = []\n",
    "# Walk through the root folder and its subfolders\n",
    "for folder_path, _, files in os.walk(data_folder_path):\n",
    "    for file_name in files:\n",
    "        full_path = os.path.join(folder_path, file_name)\n",
    "        if('_RM' in file_name):\n",
    "            europa_number = re.search(r'(\\d+)_RM', file_name).group(1)\n",
    "            rm_file_paths.append({'europa_number': europa_number,\n",
    "                                  'file_path': full_path})\n"
   ]
  },
  {
   "cell_type": "code",
   "execution_count": 4,
   "metadata": {},
   "outputs": [],
   "source": [
    "\n",
    "rm_content_title_pattern = '[A-Z]\\.[^0-9].*[^\\.]$'\n",
    "\n",
    "def extract_as_whole_table(file_path):\n",
    "    tables = camelot.read_pdf(file_path, pages='all')\n",
    "    whole_table_df = pd.concat([table.df for table in tables], ignore_index=True)\n",
    "    return whole_table_df\n",
    "\n",
    "def filter_rows_for_table1(row):\n",
    "    return len(row[0]) > 0 and len(row[1]) > 0\n",
    "\n",
    "def extract_table1_from_rm(whole_table_df):\n",
    "    table1_df = whole_table_df.dropna()\n",
    "    table1_df = table1_df[table1_df.apply(filter_rows_for_table1, axis=1)]\n",
    "    return table1_df.set_index(0)[1].to_dict()\n",
    "\n",
    "def extract_contents_from_rm(whole_table_df):\n",
    "    table2_df = whole_table_df[0]\n",
    "    title_indexes = list(table2_df[[bool(re.match(rm_content_title_pattern, x)) for x in table2_df]].index)\n",
    "    if (len(table2_df.index) not in title_indexes):\n",
    "        title_indexes.append(len(table2_df.index))\n",
    "        \n",
    "    contents = []\n",
    "    for i in range(len(title_indexes)-1):\n",
    "        title = table2_df.iloc[title_indexes[i]]\n",
    "        content = list(table2_df.iloc[title_indexes[i]+1: title_indexes[i+1]])\n",
    "        contents.append(dict(\n",
    "            title=title,\n",
    "            content = content\n",
    "        ))\n",
    "    return contents\n",
    "\n",
    "def extract_whole_document_from_rm(file_path):\n",
    "    whole_table_df = extract_as_whole_table(file_path)\n",
    "    header = extract_table1_from_rm(whole_table_df)\n",
    "    contents = extract_contents_from_rm(whole_table_df)\n",
    "    return dict(\n",
    "        header=header,\n",
    "        contents=contents\n",
    "    )\n"
   ]
  },
  {
   "cell_type": "code",
   "execution_count": 5,
   "metadata": {},
   "outputs": [
    {
     "name": "stdout",
     "output_type": "stream",
     "text": [
      "208\n",
      "207 : data/12312/12312_RM.pdf7_env_005_reach_refit_en.pdfuation_en.pdf\r"
     ]
    }
   ],
   "source": [
    "parsed_rm_dict = dict()\n",
    "error_path_list = []\n",
    "print(len(rm_file_paths))\n",
    "i = 0\n",
    "for rm_dict in rm_file_paths:\n",
    "    europa_number = rm_dict['europa_number']\n",
    "    file_path = rm_dict['file_path']\n",
    "    print(f'{i} : {file_path}', end='\\r')\n",
    "    try:\n",
    "        parsed_rm_dict[europa_number] = extract_whole_document_from_rm(file_path)\n",
    "    except:\n",
    "        print(f'error: {file_path}')\n",
    "        error_path_list.append(file_path)\n",
    "    i+=1\n"
   ]
  },
  {
   "cell_type": "code",
   "execution_count": 8,
   "metadata": {},
   "outputs": [],
   "source": [
    "file_path = 'data_out/rm.json'\n",
    "with open(file_path, 'w') as json_file:\n",
    "    json.dump(parsed_rm_dict, json_file)"
   ]
  },
  {
   "cell_type": "code",
   "execution_count": null,
   "metadata": {},
   "outputs": [],
   "source": []
  }
 ],
 "metadata": {
  "kernelspec": {
   "display_name": "Python 3",
   "language": "python",
   "name": "python3"
  },
  "language_info": {
   "codemirror_mode": {
    "name": "ipython",
    "version": 3
   },
   "file_extension": ".py",
   "mimetype": "text/x-python",
   "name": "python",
   "nbconvert_exporter": "python",
   "pygments_lexer": "ipython3",
   "version": "3.8.18"
  }
 },
 "nbformat": 4,
 "nbformat_minor": 2
}
